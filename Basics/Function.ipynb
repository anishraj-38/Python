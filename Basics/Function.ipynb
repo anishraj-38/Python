{
 "cells": [
  {
   "cell_type": "code",
   "execution_count": 10,
   "id": "65677d61-04c7-42e3-9b24-31973c7dd87c",
   "metadata": {},
   "outputs": [
    {
     "data": {
      "text/plain": [
       "5"
      ]
     },
     "execution_count": 10,
     "metadata": {},
     "output_type": "execute_result"
    }
   ],
   "source": [
    "def add(x,y):\n",
    "    z=x+y\n",
    "    return z\n",
    "add(0,5)\n",
    "    "
   ]
  },
  {
   "cell_type": "code",
   "execution_count": 1,
   "id": "895c4ad2-6b42-460c-b706-b5fbae90b951",
   "metadata": {},
   "outputs": [
    {
     "name": "stdout",
     "output_type": "stream",
     "text": [
      "Enter a name of Student \n",
      "Enter a school name of student \n",
      "Enter a class of student\n",
      "Enter a age of Student\n",
      "Enter a Contact number of student\n"
     ]
    },
    {
     "name": "stdin",
     "output_type": "stream",
     "text": [
      "Name of student  erg\n",
      "Name of school  er\n",
      "class  2\n",
      "Age :  3\n",
      "Phone Number:  34\n",
      "Name of student  d\n",
      "Name of school  asd3\n",
      "class  23\n",
      "Age :  34\n",
      "Phone Number:  234342\n",
      "Name of student  df\n",
      "Name of school  ew\n",
      "class  23\n",
      "Age :  3\n",
      "Phone Number:  23\n",
      "Name of student  aesdf\n",
      "Name of school  2\n",
      "class  234\n",
      "Age :  23\n",
      "Phone Number:  345\n"
     ]
    }
   ],
   "source": [
    "def student():\n",
    "    for i in range(4):\n",
    "        a=input(\"Name of student \")\n",
    "        b=input(\"Name of school \")\n",
    "        c=int(input(\"class \"))\n",
    "        d=int(input(\"Age : \"))\n",
    "        e=int(input(\"Phone Number: \"))\n",
    "\n",
    "student()        "
   ]
  },
  {
   "cell_type": "code",
   "execution_count": 5,
   "id": "62cc85d2-e5e1-4500-bc45-dc8abcb64fc7",
   "metadata": {},
   "outputs": [
    {
     "name": "stdout",
     "output_type": "stream",
     "text": [
      "Anish Kumar\n"
     ]
    }
   ],
   "source": [
    "def name(fname,lname):\n",
    "    print(fname+\" \"+lname)\n",
    "name(\"Anish\",\"Kumar\")    "
   ]
  },
  {
   "cell_type": "code",
   "execution_count": 11,
   "id": "2208fcc5-eb9e-4f21-a841-9f0c21b51531",
   "metadata": {},
   "outputs": [],
   "source": [
    "def elect_bill(n):\n",
    "    if n<=500:\n",
    "        print(\"Your bill is \",n*5)\n",
    "    elif n<=700 and n>500:\n",
    "        print(\"Your bill is \",n*10)\n",
    "    elif n>700 and n<=1000:\n",
    "        print(\"Your bill is \",n*15)\n",
    "    elif n>1000 :\n",
    "        print(\"Your bill is \",n*20)    \n",
    "        "
   ]
  },
  {
   "cell_type": "code",
   "execution_count": 17,
   "id": "6b77cb09-a9c2-4060-8715-67f56bbe6a8b",
   "metadata": {},
   "outputs": [],
   "source": [
    "def inst():\n",
    "    print(\"Last date of electric bill payment is 20 april\")\n",
    "    print(\"After 20 April 1000 fine should me added \")\n",
    "    print(\"By Delhi Electric Department\")\n",
    "    "
   ]
  },
  {
   "cell_type": "code",
   "execution_count": 20,
   "id": "206d17d2-51b1-4d2a-bcff-90e9cc8131c7",
   "metadata": {},
   "outputs": [
    {
     "name": "stdin",
     "output_type": "stream",
     "text": [
      "Enter a customer name  anish\n",
      "How much electricity used by customer  54322454321345\n"
     ]
    },
    {
     "name": "stdout",
     "output_type": "stream",
     "text": [
      "\n",
      "Your bill is  1086449086426900\n",
      "\n",
      "Last date of electric bill payment is 20 april\n",
      "After 20 April 1000 fine should me added \n",
      "By Delhi Electric Department\n"
     ]
    }
   ],
   "source": [
    "for i in range(1):\n",
    "    a=input(\"Enter a customer name \")\n",
    "    n=int(input(\"How much electricity used by customer \"))\n",
    "    print()\n",
    "    elect_bill(n)\n",
    "    print()\n",
    "\n",
    "    inst()"
   ]
  },
  {
   "cell_type": "code",
   "execution_count": null,
   "id": "297e6a4e-5bfd-4c42-b552-6219e36a6b75",
   "metadata": {},
   "outputs": [],
   "source": []
  }
 ],
 "metadata": {
  "kernelspec": {
   "display_name": "Python 3 (ipykernel)",
   "language": "python",
   "name": "python3"
  },
  "language_info": {
   "codemirror_mode": {
    "name": "ipython",
    "version": 3
   },
   "file_extension": ".py",
   "mimetype": "text/x-python",
   "name": "python",
   "nbconvert_exporter": "python",
   "pygments_lexer": "ipython3",
   "version": "3.12.1"
  }
 },
 "nbformat": 4,
 "nbformat_minor": 5
}
